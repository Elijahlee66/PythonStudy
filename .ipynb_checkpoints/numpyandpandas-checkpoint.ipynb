{
 "cells": [
  {
   "cell_type": "code",
   "execution_count": 24,
   "metadata": {},
   "outputs": [
    {
     "data": {
      "text/plain": [
       "True"
      ]
     },
     "execution_count": 24,
     "metadata": {},
     "output_type": "execute_result"
    }
   ],
   "source": [
    "# Make browser open this link: https://pythonexamples.org/pandas-examples/\n",
    "\n",
    "import webbrowser\n",
    "url = 'https://pythonexamples.org/pandas-examples/'\n",
    "webbrowser.register('chrome',\n",
    "    None,\n",
    "    webbrowser.BackgroundBrowser(\"C:\\\\Program Files (x86)\\\\Google\\\\Chrome\\\\Application\\\\chrome.exe\"))\n",
    "webbrowser.get('chrome').open(url, new = 2)"
   ]
  },
  {
   "cell_type": "code",
   "execution_count": null,
   "metadata": {},
   "outputs": [],
   "source": [
    "import numpy as np\n",
    "import pandas as pd"
   ]
  },
  {
   "cell_type": "code",
   "execution_count": 2,
   "metadata": {},
   "outputs": [
    {
     "name": "stdout",
     "output_type": "stream",
     "text": [
      "0     1\n",
      "1     3\n",
      "2     5\n",
      "3    12\n",
      "4    16\n",
      "5    18\n",
      "dtype: int64\n"
     ]
    }
   ],
   "source": [
    "# Pandas series example\n",
    "s = pd.Series([1,3,5,12,16,18])\n",
    "print(s)"
   ]
  },
  {
   "cell_type": "code",
   "execution_count": 3,
   "metadata": {},
   "outputs": [
    {
     "name": "stdout",
     "output_type": "stream",
     "text": [
      "0     1.0\n",
      "1     3.0\n",
      "2     4.0\n",
      "3    12.0\n",
      "4     NaN\n",
      "5    16.0\n",
      "6    18.0\n",
      "dtype: float64\n"
     ]
    }
   ],
   "source": [
    "s = pd.Series([1,3,4,12,np.nan,16,18])\n",
    "print(s)"
   ]
  },
  {
   "cell_type": "code",
   "execution_count": 8,
   "metadata": {},
   "outputs": [
    {
     "name": "stdout",
     "output_type": "stream",
     "text": [
      "python\n",
      "nan\n",
      "0    python\n",
      "1         1\n",
      "2         3\n",
      "3       NaN\n",
      "4        16\n",
      "5        18\n",
      "dtype: object\n"
     ]
    }
   ],
   "source": [
    "# string -> object\n",
    "s = pd.Series(['python',1,3,np.nan,16,18])\n",
    "print(s[0])\n",
    "print(s[3])\n",
    "print(s)"
   ]
  },
  {
   "cell_type": "code",
   "execution_count": 10,
   "metadata": {},
   "outputs": [
    {
     "name": "stdout",
     "output_type": "stream",
     "text": [
      "Hello\n"
     ]
    }
   ],
   "source": [
    "'''\n",
    "this is multiline comments\n",
    "'''\n",
    "print('Hello')"
   ]
  },
  {
   "cell_type": "code",
   "execution_count": 11,
   "metadata": {},
   "outputs": [
    {
     "name": "stdout",
     "output_type": "stream",
     "text": [
      "Empty DataFrame\n",
      "Columns: []\n",
      "Index: []\n"
     ]
    }
   ],
   "source": [
    "# DataFrame\n",
    "df = pd.DataFrame()\n",
    "print(df)"
   ]
  },
  {
   "cell_type": "code",
   "execution_count": 1,
   "metadata": {},
   "outputs": [
    {
     "name": "stdout",
     "output_type": "stream",
     "text": [
      "   names  physics  chemstry  algebra  calculus\n",
      "0   Somu       68        96       87        64\n",
      "1   Kirt       78        43       23        23\n",
      "2  Anoly       67        98       78        32\n",
      "3    Tom       76        87       87        90\n"
     ]
    }
   ],
   "source": [
    "import pandas as pd\n",
    "# DataFrame(data=None, index=None, columns=None, dtype=None, copy=False)\n",
    "df_marks = pd.DataFrame(\n",
    "[['Somu',68,96,87,64],\n",
    "['Kirt',78,43,23,23],\n",
    "['Anoly',67,98,78,32],\n",
    "['Tom',76,87,87,90]],\n",
    "columns = ['names','physics','chemstry','algebra','calculus'] \n",
    ")\n",
    "print(df_marks)"
   ]
  },
  {
   "cell_type": "code",
   "execution_count": 3,
   "metadata": {},
   "outputs": [
    {
     "name": "stdout",
     "output_type": "stream",
     "text": [
      "True\n"
     ]
    }
   ],
   "source": [
    "# Check if the dataframe is empty\n",
    "df = pd.DataFrame()\n",
    "isempty = df.empty\n",
    "print(isempty)"
   ]
  },
  {
   "cell_type": "code",
   "execution_count": 4,
   "metadata": {},
   "outputs": [
    {
     "name": "stdout",
     "output_type": "stream",
     "text": [
      "False\n"
     ]
    }
   ],
   "source": [
    "isempty = df_marks.empty\n",
    "print(isempty)"
   ]
  },
  {
   "cell_type": "code",
   "execution_count": 5,
   "metadata": {},
   "outputs": [
    {
     "name": "stdout",
     "output_type": "stream",
     "text": [
      "  names  pysics  chemistry  algebra\n",
      "0  Somu      68         85       78\n",
      "1  Kirt      75         87       88\n",
      "2  Amol      87         98       98\n",
      "3   Lin      95         67      100\n"
     ]
    }
   ],
   "source": [
    "# Create dataframe from dictionary\n",
    "# Use Dataframe convert the dictionary to dataframe\n",
    "import pandas as pd\n",
    "import numpy as np\n",
    "mydictionary = {\n",
    "    'names': ['Somu','Kirt','Amol','Lin'],\n",
    "    'pysics': [68,75,87,95],\n",
    "    'chemistry':[85,87,98,67],\n",
    "    'algebra':[78,88,98,100],    \n",
    "}\n",
    "df_mark = pd.DataFrame (mydictionary)\n",
    "print(df_mark)"
   ]
  },
  {
   "cell_type": "code",
   "execution_count": 7,
   "metadata": {},
   "outputs": [
    {
     "name": "stdout",
     "output_type": "stream",
     "text": [
      "   name  physics  chemistry  algebra\n",
      "0  Somu       68         45       56\n",
      "1  Kiku       64         56       76\n",
      "2  Almo       56         35       76\n",
      "3  Lini       35         67       87\n"
     ]
    }
   ],
   "source": [
    "# Read in csv\n",
    "df = pd.read_csv('data.csv')\n",
    "print(df)"
   ]
  },
  {
   "cell_type": "code",
   "execution_count": 43,
   "metadata": {},
   "outputs": [
    {
     "name": "stdout",
     "output_type": "stream",
     "text": [
      "The data frame is: \n",
      "    a  b\n",
      "0  2  2\n",
      "1  4  0\n"
     ]
    }
   ],
   "source": [
    "# Get Shape of Pandas DataFrame\n",
    "import pandas as pd\n",
    "# DataFrame(data=None, index=None, columns=None, dtype=None, copy=False)\n",
    "df_marks = pd.DataFrame(\n",
    "[['Somu',68,96,87,64],\n",
    "['Kirt',78,43,23,23],\n",
    "['Anoly',67,98,78,32],\n",
    "['Tom',76,87,87,90]],\n",
    "columns = ['names','physics','chemstry','algebra','calculus'] \n",
    ")\n",
    "# n\\ change to next line\n",
    "print('The data frame is: \\n',df)"
   ]
  },
  {
   "cell_type": "code",
   "execution_count": 44,
   "metadata": {},
   "outputs": [
    {
     "name": "stdout",
     "output_type": "stream",
     "text": [
      "   a  b\n",
      "0  2  2\n",
      "1  4  0\n",
      "(2, 2)\n",
      "2\n",
      "2\n"
     ]
    }
   ],
   "source": [
    "shape = df.shape\n",
    "print(df)\n",
    "print(shape)\n",
    "print(shape[0])\n",
    "print(shape[1])"
   ]
  },
  {
   "cell_type": "code",
   "execution_count": 3,
   "metadata": {},
   "outputs": [
    {
     "name": "stdout",
     "output_type": "stream",
     "text": [
      "   name  physics  chemistry  algebra\n",
      "0  Somu       68         45       56\n",
      "1  Kiku       64         56       76\n",
      "2  Almo       56         35       76\n",
      "3  Lini       35         67       87\n",
      "    name  physics  chemistry  algebra\n",
      "0  Gerge       87         87       78\n",
      "1    Ann       89         87       67\n"
     ]
    }
   ],
   "source": [
    "# Concatenate DataFrames – pandas.concat()\n",
    "df1 = pd.read_csv('data.csv')\n",
    "print(df1)\n",
    "df2 =pd.DataFrame ([['Gerge',87,87,78],\n",
    "                   ['Ann',89,87,67]],\n",
    "                   columns = ['name','physics','chemistry','algebra'])\n",
    "print(df2)\n"
   ]
  },
  {
   "cell_type": "code",
   "execution_count": 4,
   "metadata": {},
   "outputs": [
    {
     "name": "stdout",
     "output_type": "stream",
     "text": [
      "    name  physics  chemistry  algebra\n",
      "0   Somu       68         45       56\n",
      "1   Kiku       64         56       76\n",
      "2   Almo       56         35       76\n",
      "3   Lini       35         67       87\n",
      "0  Gerge       87         87       78\n",
      "1    Ann       89         87       67\n"
     ]
    }
   ],
   "source": [
    "df = [df1,df2]\n",
    "df = pd.concat(df,sort = False)\n",
    "print(df)"
   ]
  },
  {
   "cell_type": "code",
   "execution_count": 5,
   "metadata": {},
   "outputs": [
    {
     "name": "stdout",
     "output_type": "stream",
     "text": [
      "df1\n",
      "------\n",
      "    name  physics  chemistry  algebra\n",
      "0  Somu       68         45       56\n",
      "1  Kiku       64         56       76\n",
      "2  Almo       56         35       76\n",
      "3  Lini       35         67       87\n",
      "df2\n",
      "------\n",
      "     name  physics  chemistry  algebra\n",
      "0  Gerge       87         87       78\n",
      "1    Ann       89         87       67\n",
      "df\n",
      "------\n",
      "     name  physics  chemistry  algebra\n",
      "0   Somu       68         45       56\n",
      "1   Kiku       64         56       76\n",
      "2   Almo       56         35       76\n",
      "3   Lini       35         67       87\n",
      "0  Gerge       87         87       78\n",
      "1    Ann       89         87       67\n"
     ]
    }
   ],
   "source": [
    "# \\n 换行\n",
    "print(\"df1\\n------\\n\",df1)\n",
    "print(\"df2\\n------\\n\",df2)\n",
    "print(\"df\\n------\\n\",df)"
   ]
  },
  {
   "cell_type": "code",
   "execution_count": 6,
   "metadata": {},
   "outputs": [
    {
     "name": "stdout",
     "output_type": "stream",
     "text": [
      "df\n",
      "------\n",
      "     name  physics  chemistry  algebra\n",
      "0   Somu       68         45       56\n",
      "1   Kiku       64         56       76\n",
      "2   Almo       56         35       76\n",
      "3   Lini       35         67       87\n",
      "4  Gerge       87         87       78\n",
      "5    Ann       89         87       67\n"
     ]
    }
   ],
   "source": [
    "# Reset index\n",
    "# Use inplace to change the data directly in df\n",
    "df.reset_index(drop = True, inplace = True)\n",
    "print(\"df\\n------\\n\",df)"
   ]
  },
  {
   "cell_type": "code",
   "execution_count": 14,
   "metadata": {},
   "outputs": [
    {
     "name": "stdout",
     "output_type": "stream",
     "text": [
      "   name  physics  chemistry  algebra\n",
      "0  Somu       68         45       56\n",
      "1  Kiku       64         56       76\n",
      "2  Almo       56         35       76\n",
      "3  Lini       35         67       87\n",
      "    name  physics  chemistry  algebra\n",
      "0  Gerge       87         87       78\n",
      "1    Ann       89         87       67\n",
      "    name  physics  chemistry  algebra\n",
      "0   Somu       68         45       56\n",
      "1   Kiku       64         56       76\n",
      "2   Almo       56         35       76\n",
      "3   Lini       35         67       87\n",
      "4  Gerge       87         87       78\n",
      "5    Ann       89         87       67\n"
     ]
    }
   ],
   "source": [
    "# Append function \n",
    "# Add to the end of the column\n",
    "df_combined= df1.append(df2,ignore_index = True, sort = False)\n",
    "print(df1)\n",
    "print(df2)\n",
    "print(df_append)"
   ]
  },
  {
   "cell_type": "code",
   "execution_count": 17,
   "metadata": {},
   "outputs": [
    {
     "name": "stdout",
     "output_type": "stream",
     "text": [
      "    name  physics  chemistry  algebra\n",
      "4  Gerge       87         87       78\n",
      "5    Ann       89         87       67\n"
     ]
    }
   ],
   "source": [
    "# Dataframe queary\n",
    "# Query DataFrame with Condition on Single Column\n",
    "Query_1 = df_combined.query('physics>80')\n",
    "print(Query_1)"
   ]
  },
  {
   "cell_type": "code",
   "execution_count": 18,
   "metadata": {},
   "outputs": [
    {
     "name": "stdout",
     "output_type": "stream",
     "text": [
      "    name  physics  chemistry  algebra\n",
      "4  Gerge       87         87       78\n"
     ]
    }
   ],
   "source": [
    "# Query with two conditions\n",
    "Query_2 = df_combined.query('physics>80 and algebra>70')\n",
    "print(Query_2)"
   ]
  },
  {
   "cell_type": "code",
   "execution_count": 9,
   "metadata": {},
   "outputs": [
    {
     "name": "stdout",
     "output_type": "stream",
     "text": [
      "    a   b   c\n",
      "0  21  72  67\n",
      "1  23  78  62\n",
      "3  73  88  67\n",
      "5  43  78  69\n",
      "7  52  54  76\n"
     ]
    }
   ],
   "source": [
    "# Query using or, and make sure the index doesn't change\n",
    "import pandas as pd\n",
    "df = pd.DataFrame(\n",
    "    [[21, 72, 67],\n",
    "    [23, 78, 62],\n",
    "    [32, 74, 56],\n",
    "    [73, 88, 67],\n",
    "    [32, 74, 56],\n",
    "    [43, 78, 69],\n",
    "    [32, 74, 54],\n",
    "    [52, 54, 76]],\n",
    "    columns=['a', 'b', 'c'])\n",
    "#print(df)\n",
    "selected  = df.query('a>50 or c>60')\n",
    "print(selected)"
   ]
  },
  {
   "cell_type": "code",
   "execution_count": 10,
   "metadata": {},
   "outputs": [
    {
     "name": "stdout",
     "output_type": "stream",
     "text": [
      "    a   b   c\n",
      "3  73  88  67\n",
      "7  52  54  76\n"
     ]
    }
   ],
   "source": [
    "df_3 = df.query('a>50 and c>60')\n",
    "print(df_3)\n"
   ]
  },
  {
   "cell_type": "code",
   "execution_count": 14,
   "metadata": {},
   "outputs": [
    {
     "name": "stdout",
     "output_type": "stream",
     "text": [
      "    a   b   c\n",
      "3  73  88  67\n",
      "7  52  54  76\n"
     ]
    }
   ],
   "source": [
    "'''\n",
    "When inplace = True , the data is modified in place, which means it will return nothing and the dataframe is now updated. \n",
    "When inplace = False , which is the default, then the operation is performed and it returns a copy of the object. \n",
    "You then need to save it to something.\n",
    "'''\n",
    "\n",
    "df.query('a>50 and c>60',inplace = True)\n",
    "print(df)"
   ]
  },
  {
   "cell_type": "code",
   "execution_count": 28,
   "metadata": {},
   "outputs": [
    {
     "name": "stdout",
     "output_type": "stream",
     "text": [
      "       a      b      c\n",
      "0  False  False  False\n",
      "1  False  False  False\n",
      "2  False  False  False\n",
      "3  False   True  False\n",
      "4  False  False  False\n",
      "5  False  False  False\n",
      "6  False  False  False\n",
      "7  False  False  False\n"
     ]
    }
   ],
   "source": [
    "# Find values in a dataframe using isin(), which will return T/F\n",
    "df = pd.DataFrame(\n",
    "    [[21, 72, 67],\n",
    "    [23, 78, 62],\n",
    "    [32, 74, 56],\n",
    "    [73, 88, 67],\n",
    "    [32, 74, 56],\n",
    "    [43, 78, 69],\n",
    "    [32, 74, 54],\n",
    "    [52, 54, 76]],\n",
    "    columns=['a', 'b', 'c'])\n",
    "# find the scores from 80 to 90\n",
    "Result = df.isin(range(80,90))\n",
    "print(Result)"
   ]
  },
  {
   "cell_type": "code",
   "execution_count": 41,
   "metadata": {},
   "outputs": [
    {
     "name": "stdout",
     "output_type": "stream",
     "text": [
      "       a      b      c\n",
      "0  False   True  False\n",
      "1  False   True  False\n",
      "2  False  False  False\n",
      "3  False  False  False\n",
      "4  False  False  False\n",
      "5  False  False  False\n",
      "6  False  False  False\n",
      "7  False  False  False\n",
      "       a      b      c\n",
      "0  False  False  False\n",
      "1  False   True  False\n",
      "2   True   True  False\n",
      "3  False  False  False\n",
      "4   True   True  False\n",
      "5  False   True  False\n",
      "6   True   True  False\n",
      "7  False  False  False\n"
     ]
    }
   ],
   "source": [
    "# Find multiple values using series\n",
    "df_4 = pd.DataFrame(\n",
    "    [[21, 72, 67],\n",
    "    [23, 78, 62],\n",
    "    [32, 74, 56],\n",
    "    [73, 88, 67],\n",
    "    [32, 74, 56],\n",
    "    [43, 78, 69],\n",
    "    [32, 74, 54],\n",
    "    [52, 54, 76]],\n",
    "    columns=['a', 'b', 'c'])\n",
    "target = pd.Series([72,78,67])\n",
    "target2 = [32,74,78]\n",
    "Result2 = df_4.isin(target)\n",
    "Result3 = df_4.isin(target2)\n",
    "\n",
    "# Series have sequence. Arrays don't have that. Make sure to aware the difference\n",
    "print(Result2)\n",
    "print(Result3)"
   ]
  },
  {
   "cell_type": "code",
   "execution_count": 31,
   "metadata": {},
   "outputs": [
    {
     "name": "stdout",
     "output_type": "stream",
     "text": [
      "DataFrame\n",
      "-----------\n",
      "    a  b\n",
      "0  2  2\n",
      "1  4  0\n",
      "\n",
      "Series\n",
      "-----------\n",
      " 0    2\n",
      "1    0\n",
      "dtype: int64\n",
      "\n",
      "DataFrame.isin(series)\n",
      "-----------\n",
      "        a     b\n",
      "0   True  True\n",
      "1  False  True\n"
     ]
    }
   ],
   "source": [
    "import pandas as pd\n",
    "\n",
    "#initialize dataframe\n",
    "df = pd.DataFrame({'a': [2, 4], 'b': [2, 0]})\n",
    "\n",
    "#series\n",
    "s = pd.Series([2, 0])\n",
    "\n",
    "#check if the values of df are in the range(1,6)\n",
    "out = df.isin(s)\n",
    "\n",
    "print('DataFrame\\n-----------\\n',df)\n",
    "print('\\nSeries\\n-----------\\n',s)\n",
    "print('\\nDataFrame.isin(series)\\n-----------\\n',out)"
   ]
  },
  {
   "cell_type": "code",
   "execution_count": 42,
   "metadata": {},
   "outputs": [
    {
     "name": "stdout",
     "output_type": "stream",
     "text": [
      "      a      b     c\n",
      "0  True   True  True\n",
      "1  True  False  True\n",
      "2  True  False  True\n",
      "3  True  False  True\n",
      "4  True   True  True\n",
      "5  True  False  True\n",
      "6  True   True  True\n",
      "7  True  False  True\n"
     ]
    }
   ],
   "source": [
    "# Compare data frame\n",
    "targetFrame = pd.DataFrame(\n",
    "    [[21, 72, 67],\n",
    "    [23, 75, 62],\n",
    "    [32, 73, 56],\n",
    "    [73, 86, 67],\n",
    "    [32, 74, 56],\n",
    "    [43, 75, 69],\n",
    "    [32, 74, 54],\n",
    "    [52, 53, 76]],\n",
    "    columns=['a', 'b', 'c'])\n",
    "\n",
    "Result4 = df_4.isin(targetFrame)\n",
    "\n",
    "print(Result4)"
   ]
  },
  {
   "cell_type": "code",
   "execution_count": 45,
   "metadata": {},
   "outputs": [
    {
     "name": "stdout",
     "output_type": "stream",
     "text": [
      "      a      b      c\n",
      "0  True   True  False\n",
      "1  True  False  False\n",
      "2  True  False  False\n",
      "3  True  False  False\n",
      "4  True   True  False\n",
      "5  True  False  False\n",
      "6  True   True  False\n",
      "7  True  False  False\n"
     ]
    }
   ],
   "source": [
    "# Data Frame with different number of columns can also do the comparison\n",
    "targetFrame = pd.DataFrame(\n",
    "    [[21, 72],\n",
    "    [23, 75],\n",
    "    [32, 73],\n",
    "    [73, 86],\n",
    "    [32, 74],\n",
    "    [43, 75],\n",
    "    [32, 74],\n",
    "    [52, 53]],\n",
    "    columns=['a', 'b'])\n",
    "\n",
    "Result4 = df_4.isin(targetFrame)\n",
    "\n",
    "print(Result4)"
   ]
  },
  {
   "cell_type": "code",
   "execution_count": 12,
   "metadata": {},
   "outputs": [],
   "source": [
    "# Dataframe calculation\n",
    "import pandas as pd\n",
    "# DataFrame(data=None, index=None, columns=None, dtype=None, copy=False)\n",
    "Final_Scores = pd.DataFrame(\n",
    "[['Somu',68,96,87,64],\n",
    "['Kirt',78,43,23,23],\n",
    "['Anoly',67,98,78,32],\n",
    "['Tom',76,87,87,90]],\n",
    "columns = ['names','physics','chemstry','algebra','calculus'] \n",
    ")"
   ]
  },
  {
   "cell_type": "code",
   "execution_count": 13,
   "metadata": {},
   "outputs": [
    {
     "name": "stdout",
     "output_type": "stream",
     "text": [
      "\n",
      "Mean\n",
      "------\n",
      "physics     72.25\n",
      "chemstry    81.00\n",
      "algebra     68.75\n",
      "calculus    52.25\n",
      "dtype: float64\n"
     ]
    }
   ],
   "source": [
    "AveScore = Final_Scores.mean()\n",
    "print('\\nMean\\n------')\n",
    "print(AveScore)"
   ]
  },
  {
   "cell_type": "code",
   "execution_count": 20,
   "metadata": {},
   "outputs": [
    {
     "name": "stdout",
     "output_type": "stream",
     "text": [
      "physics     72.25\n",
      "chemstry    81.00\n",
      "algebra     68.75\n",
      "calculus    52.25\n",
      "dtype: float64\n"
     ]
    }
   ],
   "source": [
    "# Default is the average by column\n",
    "AveScore_ByColumn = Final_Scores.mean(axis = 0)\n",
    "print(AveScore_ByColumn)"
   ]
  },
  {
   "cell_type": "code",
   "execution_count": 21,
   "metadata": {},
   "outputs": [
    {
     "name": "stdout",
     "output_type": "stream",
     "text": [
      "0    78.75\n",
      "1    41.75\n",
      "2    68.75\n",
      "3    85.00\n",
      "dtype: float64\n"
     ]
    }
   ],
   "source": [
    "# Can calculate average by index\n",
    "AveScore_ByIndex = Final_Scores.mean(axis = 1)\n",
    "print(AveScore_ByIndex)"
   ]
  },
  {
   "cell_type": "code",
   "execution_count": 22,
   "metadata": {},
   "outputs": [
    {
     "name": "stdout",
     "output_type": "stream",
     "text": [
      "68.5625\n"
     ]
    }
   ],
   "source": [
    "Ave_All = Final_Scores.mean().mean()\n",
    "print(Ave_All)"
   ]
  },
  {
   "cell_type": "code",
   "execution_count": 24,
   "metadata": {},
   "outputs": [
    {
     "name": "stdout",
     "output_type": "stream",
     "text": [
      "   names  physics  chemstry  algebra  calculus\n",
      "0   Somu       68        96       87        64\n",
      "1   Kirt       78        43       23        23\n",
      "2  Anoly       67        98       78        32\n",
      "3    Tom       76        87       87        90\n",
      "\n",
      "-------\n",
      "names       Tom\n",
      "physics      78\n",
      "chemstry     98\n",
      "algebra      87\n",
      "calculus     90\n",
      "dtype: object\n"
     ]
    }
   ],
   "source": [
    "Max_Score_ByRow = Final_Scores.max(axis = 0)\n",
    "print(Final_Scores)\n",
    "print('\\n-------')\n",
    "print(Max_Score_ByRow)"
   ]
  },
  {
   "cell_type": "code",
   "execution_count": 25,
   "metadata": {},
   "outputs": [
    {
     "name": "stdout",
     "output_type": "stream",
     "text": [
      "   names  physics  chemstry  algebra  calculus\n",
      "0   Somu       68        96       87        64\n",
      "1   Kirt       78        43       23        23\n",
      "2  Anoly       67        98       78        32\n",
      "3    Tom       76        87       87        90\n",
      "\n",
      "-------\n",
      "0    96\n",
      "1    78\n",
      "2    98\n",
      "3    90\n",
      "dtype: int64\n"
     ]
    }
   ],
   "source": [
    "Max_Score_ByColumn = Final_Scores.max(axis = 1)\n",
    "print(Final_Scores)\n",
    "print('\\n-------')\n",
    "print(Max_Score_ByColumn)"
   ]
  },
  {
   "cell_type": "code",
   "execution_count": 29,
   "metadata": {},
   "outputs": [
    {
     "name": "stdout",
     "output_type": "stream",
     "text": [
      "0    68\n",
      "1    78\n",
      "2    67\n",
      "3    76\n",
      "Name: physics, dtype: int64\n",
      "0    96\n",
      "1    43\n",
      "2    98\n",
      "3    87\n",
      "Name: chemstry, dtype: int64\n"
     ]
    }
   ],
   "source": [
    "# Select dataframe columns\n",
    "'''\n",
    "#select column using dot operator\n",
    "a = myDataframe.column_name\n",
    "#select column using square brackets\n",
    "a = myDataframe[coulumn_name]\n",
    "'''\n",
    "Scores_physics = Final_Scores['physics']\n",
    "print(Scores_physics)\n",
    "Scores_chemstry = Final_Scores.chemstry\n",
    "print(Scores_chemstry)"
   ]
  },
  {
   "cell_type": "code",
   "execution_count": 32,
   "metadata": {},
   "outputs": [
    {
     "name": "stdout",
     "output_type": "stream",
     "text": [
      "Index(['names', 'physics', 'chemstry', 'algebra', 'calculus'], dtype='object')\n"
     ]
    }
   ],
   "source": [
    "# Get Column names using DataFrame.columns\n",
    "ColNames = Final_Scores.columns\n",
    "print(ColNames)\n"
   ]
  },
  {
   "cell_type": "code",
   "execution_count": 33,
   "metadata": {},
   "outputs": [
    {
     "name": "stdout",
     "output_type": "stream",
     "text": [
      "    name  physics  biology  geometry  calculus\n",
      "0   Somu       68       96        87        64\n",
      "1   Kirt       78       43        23        23\n",
      "2  Anoly       67       98        78        32\n",
      "3    Tom       76       87        87        90\n"
     ]
    }
   ],
   "source": [
    "# Column Rename\n",
    "New_Names = ['name', 'physics', 'biology', 'geometry', 'calculus']\n",
    "Final_Scores.columns = New_Names\n",
    "print(Final_Scores)"
   ]
  },
  {
   "cell_type": "code",
   "execution_count": 37,
   "metadata": {},
   "outputs": [
    {
     "name": "stdout",
     "output_type": "stream",
     "text": [
      "    name  biology  biology  geometry  calculus\n",
      "0   Somu       68       96        87        64\n",
      "1   Kirt       78       43        23        23\n",
      "2  Anoly       67       98        78        32\n",
      "3    Tom       76       87        87        90\n"
     ]
    }
   ],
   "source": [
    "Final_Scores = Final_Scores.rename(columns = {'physics':'biology'})\n",
    "print(Final_Scores)"
   ]
  },
  {
   "cell_type": "code",
   "execution_count": null,
   "metadata": {},
   "outputs": [],
   "source": [
    "# Test"
   ]
  }
 ],
 "metadata": {
  "kernelspec": {
   "display_name": "Python 3",
   "language": "python",
   "name": "python3"
  },
  "language_info": {
   "codemirror_mode": {
    "name": "ipython",
    "version": 3
   },
   "file_extension": ".py",
   "mimetype": "text/x-python",
   "name": "python",
   "nbconvert_exporter": "python",
   "pygments_lexer": "ipython3",
   "version": "3.8.3"
  }
 },
 "nbformat": 4,
 "nbformat_minor": 4
}
