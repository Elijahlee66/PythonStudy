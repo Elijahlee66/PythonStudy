{
 "cells": [
  {
   "cell_type": "code",
   "execution_count": 1,
   "metadata": {},
   "outputs": [],
   "source": [
    "# https://pythonexamples.org/pandas-examples/\n",
    "import numpy as np\n",
    "import pandas as pd\n"
   ]
  },
  {
   "cell_type": "code",
   "execution_count": 2,
   "metadata": {},
   "outputs": [
    {
     "name": "stdout",
     "output_type": "stream",
     "text": [
      "0     1\n",
      "1     3\n",
      "2     5\n",
      "3    12\n",
      "4    16\n",
      "5    18\n",
      "dtype: int64\n"
     ]
    }
   ],
   "source": [
    "# Pandas series example\n",
    "s = pd.Series([1,3,5,12,16,18])\n",
    "print(s)"
   ]
  },
  {
   "cell_type": "code",
   "execution_count": 3,
   "metadata": {},
   "outputs": [
    {
     "name": "stdout",
     "output_type": "stream",
     "text": [
      "0     1.0\n",
      "1     3.0\n",
      "2     4.0\n",
      "3    12.0\n",
      "4     NaN\n",
      "5    16.0\n",
      "6    18.0\n",
      "dtype: float64\n"
     ]
    }
   ],
   "source": [
    "s = pd.Series([1,3,4,12,np.nan,16,18])\n",
    "print(s)"
   ]
  },
  {
   "cell_type": "code",
   "execution_count": 8,
   "metadata": {},
   "outputs": [
    {
     "name": "stdout",
     "output_type": "stream",
     "text": [
      "python\n",
      "nan\n",
      "0    python\n",
      "1         1\n",
      "2         3\n",
      "3       NaN\n",
      "4        16\n",
      "5        18\n",
      "dtype: object\n"
     ]
    }
   ],
   "source": [
    "# string -> object\n",
    "s = pd.Series(['python',1,3,np.nan,16,18])\n",
    "print(s[0])\n",
    "print(s[3])\n",
    "print(s)"
   ]
  },
  {
   "cell_type": "code",
   "execution_count": 10,
   "metadata": {},
   "outputs": [
    {
     "name": "stdout",
     "output_type": "stream",
     "text": [
      "Hello\n"
     ]
    }
   ],
   "source": [
    "'''\n",
    "this is multiline comments\n",
    "'''\n",
    "print('Hello')"
   ]
  },
  {
   "cell_type": "code",
   "execution_count": 11,
   "metadata": {},
   "outputs": [
    {
     "name": "stdout",
     "output_type": "stream",
     "text": [
      "Empty DataFrame\n",
      "Columns: []\n",
      "Index: []\n"
     ]
    }
   ],
   "source": [
    "# DataFrame\n",
    "df = pd.DataFrame()\n",
    "print(df)"
   ]
  },
  {
   "cell_type": "code",
   "execution_count": 1,
   "metadata": {},
   "outputs": [
    {
     "name": "stdout",
     "output_type": "stream",
     "text": [
      "   names  physics  chemstry  algebra  calculus\n",
      "0   Somu       68        96       87        64\n",
      "1   Kirt       78        43       23        23\n",
      "2  Anoly       67        98       78        32\n",
      "3    Tom       76        87       87        90\n"
     ]
    }
   ],
   "source": [
    "import pandas as pd\n",
    "# DataFrame(data=None, index=None, columns=None, dtype=None, copy=False)\n",
    "df_marks = pd.DataFrame(\n",
    "[['Somu',68,96,87,64],\n",
    "['Kirt',78,43,23,23],\n",
    "['Anoly',67,98,78,32],\n",
    "['Tom',76,87,87,90]],\n",
    "columns = ['names','physics','chemstry','algebra','calculus'] \n",
    ")\n",
    "print(df_marks)"
   ]
  },
  {
   "cell_type": "code",
   "execution_count": 3,
   "metadata": {},
   "outputs": [
    {
     "name": "stdout",
     "output_type": "stream",
     "text": [
      "True\n"
     ]
    }
   ],
   "source": [
    "# Check if the dataframe is empty\n",
    "df = pd.DataFrame()\n",
    "isempty = df.empty\n",
    "print(isempty)"
   ]
  },
  {
   "cell_type": "code",
   "execution_count": 4,
   "metadata": {},
   "outputs": [
    {
     "name": "stdout",
     "output_type": "stream",
     "text": [
      "False\n"
     ]
    }
   ],
   "source": [
    "isempty = df_marks.empty\n",
    "print(isempty)"
   ]
  },
  {
   "cell_type": "code",
   "execution_count": 5,
   "metadata": {},
   "outputs": [
    {
     "name": "stdout",
     "output_type": "stream",
     "text": [
      "  names  pysics  chemistry  algebra\n",
      "0  Somu      68         85       78\n",
      "1  Kirt      75         87       88\n",
      "2  Amol      87         98       98\n",
      "3   Lin      95         67      100\n"
     ]
    }
   ],
   "source": [
    "# Create dataframe from dictionary\n",
    "# Use Dataframe convert the dictionary to dataframe\n",
    "import pandas as pd\n",
    "import numpy as np\n",
    "mydictionary = {\n",
    "    'names': ['Somu','Kirt','Amol','Lin'],\n",
    "    'pysics': [68,75,87,95],\n",
    "    'chemistry':[85,87,98,67],\n",
    "    'algebra':[78,88,98,100],    \n",
    "}\n",
    "df_mark = pd.DataFrame (mydictionary)\n",
    "print(df_mark)"
   ]
  },
  {
   "cell_type": "code",
   "execution_count": 7,
   "metadata": {},
   "outputs": [
    {
     "name": "stdout",
     "output_type": "stream",
     "text": [
      "   name  physics  chemistry  algebra\n",
      "0  Somu       68         45       56\n",
      "1  Kiku       64         56       76\n",
      "2  Almo       56         35       76\n",
      "3  Lini       35         67       87\n"
     ]
    }
   ],
   "source": [
    "# Read in csv\n",
    "df = pd.read_csv('data.csv')\n",
    "print(df)"
   ]
  },
  {
   "cell_type": "code",
   "execution_count": 1,
   "metadata": {},
   "outputs": [
    {
     "ename": "NameError",
     "evalue": "name 'df' is not defined",
     "output_type": "error",
     "traceback": [
      "\u001b[1;31m---------------------------------------------------------------------------\u001b[0m",
      "\u001b[1;31mNameError\u001b[0m                                 Traceback (most recent call last)",
      "\u001b[1;32m<ipython-input-1-7f0c2fbabd0b>\u001b[0m in \u001b[0;36m<module>\u001b[1;34m\u001b[0m\n\u001b[0;32m     10\u001b[0m )\n\u001b[0;32m     11\u001b[0m \u001b[1;31m# n\\ change to next line\u001b[0m\u001b[1;33m\u001b[0m\u001b[1;33m\u001b[0m\u001b[1;33m\u001b[0m\u001b[0m\n\u001b[1;32m---> 12\u001b[1;33m \u001b[0mprint\u001b[0m\u001b[1;33m(\u001b[0m\u001b[1;34m'The data frame is: \\n'\u001b[0m\u001b[1;33m,\u001b[0m\u001b[0mdf\u001b[0m\u001b[1;33m)\u001b[0m\u001b[1;33m\u001b[0m\u001b[1;33m\u001b[0m\u001b[0m\n\u001b[0m",
      "\u001b[1;31mNameError\u001b[0m: name 'df' is not defined"
     ]
    }
   ],
   "source": [
    "# Get Shape of Pandas DataFrame\n",
    "import pandas as pd\n",
    "# DataFrame(data=None, index=None, columns=None, dtype=None, copy=False)\n",
    "df_marks = pd.DataFrame(\n",
    "[['Somu',68,96,87,64],\n",
    "['Kirt',78,43,23,23],\n",
    "['Anoly',67,98,78,32],\n",
    "['Tom',76,87,87,90]],\n",
    "columns = ['names','physics','chemstry','algebra','calculus'] \n",
    ")\n",
    "# n\\ change to next line\n",
    "print('The data frame is: \\n',df)"
   ]
  },
  {
   "cell_type": "code",
   "execution_count": 2,
   "metadata": {},
   "outputs": [
    {
     "ename": "NameError",
     "evalue": "name 'df' is not defined",
     "output_type": "error",
     "traceback": [
      "\u001b[1;31m---------------------------------------------------------------------------\u001b[0m",
      "\u001b[1;31mNameError\u001b[0m                                 Traceback (most recent call last)",
      "\u001b[1;32m<ipython-input-2-a5955c289ee7>\u001b[0m in \u001b[0;36m<module>\u001b[1;34m\u001b[0m\n\u001b[1;32m----> 1\u001b[1;33m \u001b[0mshape\u001b[0m \u001b[1;33m=\u001b[0m \u001b[0mdf\u001b[0m\u001b[1;33m.\u001b[0m\u001b[0mshape\u001b[0m\u001b[1;33m\u001b[0m\u001b[1;33m\u001b[0m\u001b[0m\n\u001b[0m\u001b[0;32m      2\u001b[0m \u001b[0mprint\u001b[0m\u001b[1;33m(\u001b[0m\u001b[0mdf\u001b[0m\u001b[1;33m)\u001b[0m\u001b[1;33m\u001b[0m\u001b[1;33m\u001b[0m\u001b[0m\n\u001b[0;32m      3\u001b[0m \u001b[0mprint\u001b[0m\u001b[1;33m(\u001b[0m\u001b[0mshape\u001b[0m\u001b[1;33m)\u001b[0m\u001b[1;33m\u001b[0m\u001b[1;33m\u001b[0m\u001b[0m\n\u001b[0;32m      4\u001b[0m \u001b[0mprint\u001b[0m\u001b[1;33m(\u001b[0m\u001b[0mshape\u001b[0m\u001b[1;33m[\u001b[0m\u001b[1;36m0\u001b[0m\u001b[1;33m]\u001b[0m\u001b[1;33m)\u001b[0m\u001b[1;33m\u001b[0m\u001b[1;33m\u001b[0m\u001b[0m\n\u001b[0;32m      5\u001b[0m \u001b[0mprint\u001b[0m\u001b[1;33m(\u001b[0m\u001b[0mshape\u001b[0m\u001b[1;33m[\u001b[0m\u001b[1;36m1\u001b[0m\u001b[1;33m]\u001b[0m\u001b[1;33m)\u001b[0m\u001b[1;33m\u001b[0m\u001b[1;33m\u001b[0m\u001b[0m\n",
      "\u001b[1;31mNameError\u001b[0m: name 'df' is not defined"
     ]
    }
   ],
   "source": [
    "shape = df.shape\n",
    "print(df)\n",
    "print(shape)\n",
    "print(shape[0])\n",
    "print(shape[1])"
   ]
  },
  {
   "cell_type": "code",
   "execution_count": 3,
   "metadata": {},
   "outputs": [
    {
     "name": "stdout",
     "output_type": "stream",
     "text": [
      "   name  physics  chemistry  algebra\n",
      "0  Somu       68         45       56\n",
      "1  Kiku       64         56       76\n",
      "2  Almo       56         35       76\n",
      "3  Lini       35         67       87\n",
      "    name  physics  chemistry  algebra\n",
      "0  Gerge       87         87       78\n",
      "1    Ann       89         87       67\n"
     ]
    }
   ],
   "source": [
    "# Concatenate DataFrames – pandas.concat()\n",
    "df1 = pd.read_csv('data.csv')\n",
    "print(df1)\n",
    "df2 =pd.DataFrame ([['Gerge',87,87,78],\n",
    "                   ['Ann',89,87,67]],\n",
    "                   columns = ['name','physics','chemistry','algebra'])\n",
    "print(df2)\n"
   ]
  },
  {
   "cell_type": "code",
   "execution_count": 4,
   "metadata": {},
   "outputs": [
    {
     "name": "stdout",
     "output_type": "stream",
     "text": [
      "    name  physics  chemistry  algebra\n",
      "0   Somu       68         45       56\n",
      "1   Kiku       64         56       76\n",
      "2   Almo       56         35       76\n",
      "3   Lini       35         67       87\n",
      "0  Gerge       87         87       78\n",
      "1    Ann       89         87       67\n"
     ]
    }
   ],
   "source": [
    "df = [df1,df2]\n",
    "df = pd.concat(df,sort = False)\n",
    "print(df)"
   ]
  },
  {
   "cell_type": "code",
   "execution_count": 5,
   "metadata": {},
   "outputs": [
    {
     "name": "stdout",
     "output_type": "stream",
     "text": [
      "df1\n",
      "------\n",
      "    name  physics  chemistry  algebra\n",
      "0  Somu       68         45       56\n",
      "1  Kiku       64         56       76\n",
      "2  Almo       56         35       76\n",
      "3  Lini       35         67       87\n",
      "df2\n",
      "------\n",
      "     name  physics  chemistry  algebra\n",
      "0  Gerge       87         87       78\n",
      "1    Ann       89         87       67\n",
      "df\n",
      "------\n",
      "     name  physics  chemistry  algebra\n",
      "0   Somu       68         45       56\n",
      "1   Kiku       64         56       76\n",
      "2   Almo       56         35       76\n",
      "3   Lini       35         67       87\n",
      "0  Gerge       87         87       78\n",
      "1    Ann       89         87       67\n"
     ]
    }
   ],
   "source": [
    "# \\n 换行\n",
    "print(\"df1\\n------\\n\",df1)\n",
    "print(\"df2\\n------\\n\",df2)\n",
    "print(\"df\\n------\\n\",df)"
   ]
  },
  {
   "cell_type": "code",
   "execution_count": 6,
   "metadata": {},
   "outputs": [
    {
     "name": "stdout",
     "output_type": "stream",
     "text": [
      "df\n",
      "------\n",
      "     name  physics  chemistry  algebra\n",
      "0   Somu       68         45       56\n",
      "1   Kiku       64         56       76\n",
      "2   Almo       56         35       76\n",
      "3   Lini       35         67       87\n",
      "4  Gerge       87         87       78\n",
      "5    Ann       89         87       67\n"
     ]
    }
   ],
   "source": [
    "# Reset index\n",
    "df.reset_index(drop = True, inplace = True)\n",
    "print(\"df\\n------\\n\",df)"
   ]
  },
  {
   "cell_type": "code",
   "execution_count": 14,
   "metadata": {},
   "outputs": [
    {
     "name": "stdout",
     "output_type": "stream",
     "text": [
      "   name  physics  chemistry  algebra\n",
      "0  Somu       68         45       56\n",
      "1  Kiku       64         56       76\n",
      "2  Almo       56         35       76\n",
      "3  Lini       35         67       87\n",
      "    name  physics  chemistry  algebra\n",
      "0  Gerge       87         87       78\n",
      "1    Ann       89         87       67\n",
      "    name  physics  chemistry  algebra\n",
      "0   Somu       68         45       56\n",
      "1   Kiku       64         56       76\n",
      "2   Almo       56         35       76\n",
      "3   Lini       35         67       87\n",
      "4  Gerge       87         87       78\n",
      "5    Ann       89         87       67\n"
     ]
    }
   ],
   "source": [
    "# Append function \n",
    "# Add to the end of the column\n",
    "df_combined= df1.append(df2,ignore_index = True, sort = False)\n",
    "print(df1)\n",
    "print(df2)\n",
    "print(df_append)"
   ]
  },
  {
   "cell_type": "code",
   "execution_count": 17,
   "metadata": {},
   "outputs": [
    {
     "name": "stdout",
     "output_type": "stream",
     "text": [
      "    name  physics  chemistry  algebra\n",
      "4  Gerge       87         87       78\n",
      "5    Ann       89         87       67\n"
     ]
    }
   ],
   "source": [
    "# Dataframe queary\n",
    "# Query DataFrame with Condition on Single Column\n",
    "Query_1 = df_combined.query('physics>80')\n",
    "print(Query_1)"
   ]
  },
  {
   "cell_type": "code",
   "execution_count": 18,
   "metadata": {},
   "outputs": [
    {
     "name": "stdout",
     "output_type": "stream",
     "text": [
      "    name  physics  chemistry  algebra\n",
      "4  Gerge       87         87       78\n"
     ]
    }
   ],
   "source": [
    "# Query with two conditions\n",
    "Query_2 = df_combined.query('physics>80 and algebra>70')\n",
    "print(Query_2)"
   ]
  },
  {
   "cell_type": "code",
   "execution_count": null,
   "metadata": {},
   "outputs": [],
   "source": []
  }
 ],
 "metadata": {
  "kernelspec": {
   "display_name": "Python 3",
   "language": "python",
   "name": "python3"
  },
  "language_info": {
   "codemirror_mode": {
    "name": "ipython",
    "version": 3
   },
   "file_extension": ".py",
   "mimetype": "text/x-python",
   "name": "python",
   "nbconvert_exporter": "python",
   "pygments_lexer": "ipython3",
   "version": "3.7.7"
  }
 },
 "nbformat": 4,
 "nbformat_minor": 4
}
